{
 "cells": [
  {
   "cell_type": "code",
   "execution_count": 1,
   "metadata": {},
   "outputs": [],
   "source": [
    "import librosa\n",
    "import soundfile\n",
    "import pandas as pd\n",
    "import os, glob, pickle\n",
    "import numpy as np\n",
    "import json\n",
    "import seaborn as sns\n",
    "import parselmouth\n",
    "import matplotlib.pyplot as plt\n",
    "from parselmouth.praat import call\n",
    "from sklearn.model_selection import train_test_split\n",
    "from sklearn.neural_network import MLPClassifier\n",
    "from sklearn.metrics import accuracy_score\n",
    "from sklearn.metrics import confusion_matrix\n",
    "from sklearn.model_selection import learning_curve\n",
    "from sklearn.ensemble import ExtraTreesClassifier\n",
    "from sklearn import svm\n",
    "from sklearn.ensemble import RandomForestClassifier\n",
    "from sklearn.model_selection import GridSearchCV\n",
    "from sklearn.metrics import mean_absolute_error\n"
   ]
  },
  {
   "cell_type": "code",
   "execution_count": 2,
   "metadata": {},
   "outputs": [],
   "source": [
    "\n",
    "def extract_feature(gender,snd,file_name, mfcc, chroma, mel, pm):\n",
    "    with soundfile.SoundFile(file_name) as sound_file:\n",
    "        X = sound_file.read(dtype=\"float32\")\n",
    "        sample_rate=sound_file.samplerate\n",
    "        if chroma:\n",
    "            stft=np.abs(librosa.stft(X))\n",
    "        result=np.array([])\n",
    "        if mfcc:\n",
    "            mfccs=np.mean(librosa.feature.mfcc(y=X, sr=sample_rate, n_mfcc=40).T, axis=0)\n",
    "            result=np.hstack((result, mfccs))\n",
    "        if chroma:\n",
    "            chroma=np.mean(librosa.feature.chroma_stft(S=stft, sr=sample_rate).T,axis=0)\n",
    "            result=np.hstack((result, chroma))\n",
    "        if mel:\n",
    "            mel=np.mean(librosa.feature.melspectrogram(X, sr=sample_rate).T,axis=0)\n",
    "            result=np.hstack((result, mel))\n",
    "        if pm:\n",
    "            pm = measurePitch(snd, 75, 500, \"Hertz\")\n",
    "            result=np.hstack((result, pm))\n",
    "        if gender == \"male\":\n",
    "            gender = 1\n",
    "        else:\n",
    "            gender = 0\n",
    "        result=np.hstack((result, gender))\n",
    "    return result"
   ]
  },
  {
   "cell_type": "code",
   "execution_count": 3,
   "metadata": {},
   "outputs": [],
   "source": [
    "def measurePitch(snd, f0min, f0max, unit):\n",
    "    pitch = snd.to_pitch()\n",
    "    pmArray =np.array([])\n",
    "    meanF0 = call(pitch, \"Get mean\", 0, 0, unit) # get mean pitch\n",
    "    stdevF0 = call(pitch, \"Get standard deviation\", 0 ,0, unit) # get standard deviation\n",
    "    harmonicity = call(snd, \"To Harmonicity (cc)\", 0.01, 75, 0.1, 1.0)\n",
    "    hnr = call(harmonicity, \"Get mean\", 0, 0)\n",
    "    pointProcess = call(snd, \"To PointProcess (periodic, cc)\", f0min, f0max)\n",
    "    localJitter = call(pointProcess, \"Get jitter (local)\", 0, 0, 0.0001, 0.02, 1.3)\n",
    "    localabsoluteJitter = call(pointProcess, \"Get jitter (local, absolute)\", 0, 0, 0.0001, 0.02, 1.3)\n",
    "    rapJitter = call(pointProcess, \"Get jitter (rap)\", 0, 0, 0.0001, 0.02, 1.3)\n",
    "    ppq5Jitter = call(pointProcess, \"Get jitter (ppq5)\", 0, 0, 0.0001, 0.02, 1.3)\n",
    "    ddpJitter = call(pointProcess, \"Get jitter (ddp)\", 0, 0, 0.0001, 0.02, 1.3)\n",
    "    localShimmer =  call([snd, pointProcess], \"Get shimmer (local)\", 0, 0, 0.0001, 0.02, 1.3, 1.6)\n",
    "    localdbShimmer = call([snd, pointProcess], \"Get shimmer (local_dB)\", 0, 0, 0.0001, 0.02, 1.3, 1.6)\n",
    "    apq3Shimmer = call([snd, pointProcess], \"Get shimmer (apq3)\", 0, 0, 0.0001, 0.02, 1.3, 1.6)\n",
    "    aqpq5Shimmer = call([snd, pointProcess], \"Get shimmer (apq5)\", 0, 0, 0.0001, 0.02, 1.3, 1.6)\n",
    "    apq11Shimmer =  call([snd, pointProcess], \"Get shimmer (apq11)\", 0, 0, 0.0001, 0.02, 1.3, 1.6)\n",
    "    ddaShimmer = call([snd, pointProcess], \"Get shimmer (dda)\", 0, 0, 0.0001, 0.02, 1.3, 1.6)\n",
    "    intensity = snd.to_intensity()\n",
    "    meanIntense = parselmouth.praat.call(intensity, \"Get mean\", snd.xmin, snd.xmax)\n",
    "    Ltas = call(snd, \"To Ltas\", f0max-f0min)\n",
    "    number =  parselmouth.praat.call(Ltas, \"Get number of bins\")\n",
    "    beta = parselmouth.praat.call(Ltas, \"Get value in bin\", 43)/parselmouth.praat.call(Ltas, \"Get value in bin\", 1)\n",
    "    meanLtas = parselmouth.praat.call(Ltas, \"Get mean\", f0min, f0max, \"energy\")\n",
    "    pmArray = np.hstack((meanF0, stdevF0, hnr, localJitter, localabsoluteJitter, rapJitter, ppq5Jitter, ddpJitter, localShimmer, localdbShimmer, apq3Shimmer, aqpq5Shimmer, apq11Shimmer, ddaShimmer, meanIntense, meanLtas))\n",
    "    return pmArray"
   ]
  },
  {
   "cell_type": "code",
   "execution_count": 4,
   "metadata": {},
   "outputs": [],
   "source": [
    "\n",
    "\n",
    "observed_p_emotions=['angry', 'excited', 'happy', 'neutral', 'sad']\n",
    "observed_s_emotions=['anxious', 'apologetic', 'confident', 'enthusiastic', 'worried']\n",
    "observed_f_emotions=['angry', 'excited', 'happy', 'neutral', 'sad', 'anxious', 'apologetic', 'confident', 'enthusiastic', 'worried']\n",
    "\n",
    "observed_emotions = observed_s_emotions\n"
   ]
  },
  {
   "cell_type": "code",
   "execution_count": 5,
   "metadata": {},
   "outputs": [],
   "source": [
    "def load_data(test_size=0.2):\n",
    "    x,y=[],[]\n",
    "    for file in glob.glob(\"C:\\\\Users\\\\Binu\\\\Desktop\\\\emudbset\\\\*.wav\"): #Change the directory to where your wav files are located. Keep the *.wav to select all wav files \n",
    "        snd = parselmouth.Sound(file)\n",
    "        file_name=os.path.basename(file)\n",
    "        emotion=file_name.split(\"_\")[1]\n",
    "        speaker=file_name.split(\"_\")[0]\n",
    "        gender = speaker[:-1]\n",
    "        if emotion not in observed_emotions:\n",
    "            continue\n",
    "        feature=extract_feature(gender,snd,file, mfcc=True, chroma=True, mel=True, pm=False)\n",
    "        x.append(feature)\n",
    "        y.append(emotion)\n",
    "    return train_test_split(np.array(x), y, test_size=test_size, random_state=9)"
   ]
  },
  {
   "cell_type": "code",
   "execution_count": 6,
   "metadata": {},
   "outputs": [
    {
     "name": "stdout",
     "output_type": "stream",
     "text": [
      "[[-5.14100281e+02  1.50521591e+02  1.67134247e+01 ...  2.82133250e-08\n",
      "   1.96503098e-08  1.00000000e+00]\n",
      " [-5.53610352e+02  9.37813568e+01  7.36310434e+00 ...  1.29587619e-07\n",
      "   5.07491862e-08  0.00000000e+00]\n",
      " [-5.05681122e+02  1.30654572e+02  2.10833206e+01 ...  8.97011034e-08\n",
      "   4.37831247e-08  1.00000000e+00]\n",
      " ...\n",
      " [-4.95490784e+02  1.00166779e+02 -9.86926651e+00 ...  1.92148988e-07\n",
      "   1.03354608e-07  1.00000000e+00]\n",
      " [-5.67913574e+02  9.17978897e+01 -5.26031256e+00 ...  7.82804008e-08\n",
      "   3.68323150e-08  0.00000000e+00]\n",
      " [-6.21082764e+02  1.03507332e+02  3.22704544e+01 ...  3.69058384e-08\n",
      "   2.26339019e-08  0.00000000e+00]]\n",
      "[[-5.05843231e+02  8.68745728e+01 -2.06283531e+01 ...  9.98686858e-08\n",
      "   4.61146676e-08  0.00000000e+00]\n",
      " [-5.28930237e+02  1.19846954e+02 -7.69809914e+00 ...  1.40363426e-07\n",
      "   6.26404457e-08  0.00000000e+00]\n",
      " [-5.66152771e+02  1.11656982e+02  1.85005226e+01 ...  5.44499201e-08\n",
      "   2.82806418e-08  0.00000000e+00]\n",
      " ...\n",
      " [-5.39561829e+02  1.02567551e+02 -1.34393024e+01 ...  1.26143377e-07\n",
      "   5.96643090e-08  0.00000000e+00]\n",
      " [-5.62239380e+02  9.89489822e+01 -1.01605940e+01 ...  4.29195950e-08\n",
      "   2.54461554e-08  0.00000000e+00]\n",
      " [-4.85495758e+02  1.22625587e+02 -1.02624404e+00 ...  3.28723473e-07\n",
      "   1.14092067e-07  1.00000000e+00]]\n",
      "(960, 240)\n"
     ]
    }
   ],
   "source": [
    "x_train,x_test,y_train,y_test=load_data(test_size=0.2)\n",
    "print(x_train)\n",
    "print(x_test)\n",
    "\n",
    "print((x_train.shape[0], x_test.shape[0]))"
   ]
  },
  {
   "cell_type": "code",
   "execution_count": 8,
   "metadata": {},
   "outputs": [
    {
     "name": "stdout",
     "output_type": "stream",
     "text": [
      "Features extracted: 181\n"
     ]
    }
   ],
   "source": [
    "print(f'Features extracted: {x_train.shape[1]}')"
   ]
  },
  {
   "cell_type": "code",
   "execution_count": 9,
   "metadata": {},
   "outputs": [],
   "source": [
    "uncomment for SVM. \n",
    "parameters = {'kernel':('linear',\n",
    "                        'rbf'), 'C':[1, 10]}\n",
    "svc = svm.SVC()\n",
    "model = GridSearchCV(svc, parameters)\n",
    "model.bestestimator.featureimportances"
   ]
  },
  {
   "cell_type": "code",
   "execution_count": 10,
   "metadata": {},
   "outputs": [],
   "source": [
    "history = model.fit(x_train,y_train)"
   ]
  },
  {
   "cell_type": "code",
   "execution_count": 11,
   "metadata": {},
   "outputs": [],
   "source": [
    "y_pred=model.predict(x_test)"
   ]
  },
  {
   "cell_type": "code",
   "execution_count": 12,
   "metadata": {},
   "outputs": [
    {
     "name": "stdout",
     "output_type": "stream",
     "text": [
      "Accuracy: 81.25%\n"
     ]
    }
   ],
   "source": [
    "\n",
    "accuracy=accuracy_score(y_true=y_test, y_pred=y_pred)\n",
    "\n",
    "print(\"Accuracy: {:.2f}%\".format(accuracy*100))"
   ]
  },
  {
   "cell_type": "code",
   "execution_count": 13,
   "metadata": {},
   "outputs": [],
   "source": [
    "\n",
    "#nopm_mfcc40_sizes = [1,40,52,300, 500, 700, 864]\n",
    "\n",
    "#train_sizes, train_scores, test_scores = learning_curve(MLPClassifier(),x_train, y_train,cv=10, scoring='accuracy', n_jobs= -1, train_sizes = nopm_mfcc40_sizes ) "
   ]
  },
  {
   "cell_type": "code",
   "execution_count": null,
   "metadata": {},
   "outputs": [],
   "source": [
    "#train_mean = np.mean(train_scores,axis = 1)\n",
    "#test_mean = np.mean(test_scores,axis = 1)"
   ]
  },
  {
   "cell_type": "code",
   "execution_count": null,
   "metadata": {},
   "outputs": [],
   "source": [
    "#plt.plot(train_sizes, train_mean, label = 'Training Score')\n",
    "#plt.plot(train_sizes, test_mean, label = 'Cross-Validation Score')\n",
    "\n",
    "#plt.title('Learning Curve')\n",
    "#plt.xlabel('Training Size')\n",
    "#plt.ylabel('Accuracy Score')\n",
    "#plt.legend(loc = 'lower right')\n",
    "#plt.savefig(\"test.svg\", transparent=True)"
   ]
  },
  {
   "cell_type": "code",
   "execution_count": 14,
   "metadata": {},
   "outputs": [
    {
     "name": "stdout",
     "output_type": "stream",
     "text": [
      "              anxious  apologetic  confident  enthusiastic  worried\n",
      "anxious            42           0          2             1        0\n",
      "apologetic          0          37          4             0        8\n",
      "confident           0           6         36             5        3\n",
      "enthusiastic        6           3          2            40        1\n",
      "worried             0           0          2             2       40\n"
     ]
    }
   ],
   "source": [
    "cm = confusion_matrix(y_test, y_pred)\n",
    "#cm = cm / cm.astype(np.float).sum(axis=1)*100\n",
    "#cm =np.round(cm,2)\n",
    "df = pd.DataFrame(np.array(cm),\n",
    "                   columns=observed_emotions,\n",
    "                   index = observed_emotions)\n",
    "df.style\n",
    "print(df)"
   ]
  },
  {
   "cell_type": "code",
   "execution_count": 15,
   "metadata": {},
   "outputs": [],
   "source": [
    "def highlight_diag(df):\n",
    "    a = np.full(df.shape, '', dtype='<U24')\n",
    "    np.fill_diagonal(a, 'background-color: salmon')\n",
    "    return pd.DataFrame(a, index=df.index, columns=df.columns)"
   ]
  },
  {
   "cell_type": "code",
   "execution_count": 16,
   "metadata": {},
   "outputs": [],
   "source": [
    "s = df.style.apply(highlight_diag, axis=None)\n"
   ]
  },
  {
   "cell_type": "code",
   "execution_count": 17,
   "metadata": {},
   "outputs": [
    {
     "data": {
      "text/html": [
       "<style  type=\"text/css\" >\n",
       "    #T_144fe48a_0372_11eb_8d62_408d5c1db33crow0_col0 {\n",
       "            background-color:  #fa8072;\n",
       "            color:  #000000;\n",
       "        }    #T_144fe48a_0372_11eb_8d62_408d5c1db33crow0_col1 {\n",
       "            background-color:  #fee9e6;\n",
       "            color:  #000000;\n",
       "        }    #T_144fe48a_0372_11eb_8d62_408d5c1db33crow0_col2 {\n",
       "            background-color:  #fee9e6;\n",
       "            color:  #000000;\n",
       "        }    #T_144fe48a_0372_11eb_8d62_408d5c1db33crow0_col3 {\n",
       "            background-color:  #fee6e4;\n",
       "            color:  #000000;\n",
       "        }    #T_144fe48a_0372_11eb_8d62_408d5c1db33crow0_col4 {\n",
       "            background-color:  #fee9e6;\n",
       "            color:  #000000;\n",
       "        }    #T_144fe48a_0372_11eb_8d62_408d5c1db33crow1_col0 {\n",
       "            background-color:  #fee9e6;\n",
       "            color:  #000000;\n",
       "        }    #T_144fe48a_0372_11eb_8d62_408d5c1db33crow1_col1 {\n",
       "            background-color:  #fa8072;\n",
       "            color:  #000000;\n",
       "        }    #T_144fe48a_0372_11eb_8d62_408d5c1db33crow1_col2 {\n",
       "            background-color:  #fee3e0;\n",
       "            color:  #000000;\n",
       "        }    #T_144fe48a_0372_11eb_8d62_408d5c1db33crow1_col3 {\n",
       "            background-color:  #fee9e6;\n",
       "            color:  #000000;\n",
       "        }    #T_144fe48a_0372_11eb_8d62_408d5c1db33crow1_col4 {\n",
       "            background-color:  #fdd4cf;\n",
       "            color:  #000000;\n",
       "        }    #T_144fe48a_0372_11eb_8d62_408d5c1db33crow2_col0 {\n",
       "            background-color:  #fee9e6;\n",
       "            color:  #000000;\n",
       "        }    #T_144fe48a_0372_11eb_8d62_408d5c1db33crow2_col1 {\n",
       "            background-color:  #fdd8d4;\n",
       "            color:  #000000;\n",
       "        }    #T_144fe48a_0372_11eb_8d62_408d5c1db33crow2_col2 {\n",
       "            background-color:  #fa8072;\n",
       "            color:  #000000;\n",
       "        }    #T_144fe48a_0372_11eb_8d62_408d5c1db33crow2_col3 {\n",
       "            background-color:  #fedcd8;\n",
       "            color:  #000000;\n",
       "        }    #T_144fe48a_0372_11eb_8d62_408d5c1db33crow2_col4 {\n",
       "            background-color:  #fee1de;\n",
       "            color:  #000000;\n",
       "        }    #T_144fe48a_0372_11eb_8d62_408d5c1db33crow3_col0 {\n",
       "            background-color:  #fedad6;\n",
       "            color:  #000000;\n",
       "        }    #T_144fe48a_0372_11eb_8d62_408d5c1db33crow3_col1 {\n",
       "            background-color:  #fee1dd;\n",
       "            color:  #000000;\n",
       "        }    #T_144fe48a_0372_11eb_8d62_408d5c1db33crow3_col2 {\n",
       "            background-color:  #fee9e6;\n",
       "            color:  #000000;\n",
       "        }    #T_144fe48a_0372_11eb_8d62_408d5c1db33crow3_col3 {\n",
       "            background-color:  #fa8072;\n",
       "            color:  #000000;\n",
       "        }    #T_144fe48a_0372_11eb_8d62_408d5c1db33crow3_col4 {\n",
       "            background-color:  #fee6e4;\n",
       "            color:  #000000;\n",
       "        }    #T_144fe48a_0372_11eb_8d62_408d5c1db33crow4_col0 {\n",
       "            background-color:  #fee9e6;\n",
       "            color:  #000000;\n",
       "        }    #T_144fe48a_0372_11eb_8d62_408d5c1db33crow4_col1 {\n",
       "            background-color:  #fee9e6;\n",
       "            color:  #000000;\n",
       "        }    #T_144fe48a_0372_11eb_8d62_408d5c1db33crow4_col2 {\n",
       "            background-color:  #fee9e6;\n",
       "            color:  #000000;\n",
       "        }    #T_144fe48a_0372_11eb_8d62_408d5c1db33crow4_col3 {\n",
       "            background-color:  #fee4e1;\n",
       "            color:  #000000;\n",
       "        }    #T_144fe48a_0372_11eb_8d62_408d5c1db33crow4_col4 {\n",
       "            background-color:  #fa8072;\n",
       "            color:  #000000;\n",
       "        }</style><table id=\"T_144fe48a_0372_11eb_8d62_408d5c1db33c\" ><thead>    <tr>        <th class=\"blank level0\" ></th>        <th class=\"col_heading level0 col0\" >anxious</th>        <th class=\"col_heading level0 col1\" >apologetic</th>        <th class=\"col_heading level0 col2\" >confident</th>        <th class=\"col_heading level0 col3\" >enthusiastic</th>        <th class=\"col_heading level0 col4\" >worried</th>    </tr></thead><tbody>\n",
       "                <tr>\n",
       "                        <th id=\"T_144fe48a_0372_11eb_8d62_408d5c1db33clevel0_row0\" class=\"row_heading level0 row0\" >anxious</th>\n",
       "                        <td id=\"T_144fe48a_0372_11eb_8d62_408d5c1db33crow0_col0\" class=\"data row0 col0\" >42</td>\n",
       "                        <td id=\"T_144fe48a_0372_11eb_8d62_408d5c1db33crow0_col1\" class=\"data row0 col1\" >0</td>\n",
       "                        <td id=\"T_144fe48a_0372_11eb_8d62_408d5c1db33crow0_col2\" class=\"data row0 col2\" >2</td>\n",
       "                        <td id=\"T_144fe48a_0372_11eb_8d62_408d5c1db33crow0_col3\" class=\"data row0 col3\" >1</td>\n",
       "                        <td id=\"T_144fe48a_0372_11eb_8d62_408d5c1db33crow0_col4\" class=\"data row0 col4\" >0</td>\n",
       "            </tr>\n",
       "            <tr>\n",
       "                        <th id=\"T_144fe48a_0372_11eb_8d62_408d5c1db33clevel0_row1\" class=\"row_heading level0 row1\" >apologetic</th>\n",
       "                        <td id=\"T_144fe48a_0372_11eb_8d62_408d5c1db33crow1_col0\" class=\"data row1 col0\" >0</td>\n",
       "                        <td id=\"T_144fe48a_0372_11eb_8d62_408d5c1db33crow1_col1\" class=\"data row1 col1\" >37</td>\n",
       "                        <td id=\"T_144fe48a_0372_11eb_8d62_408d5c1db33crow1_col2\" class=\"data row1 col2\" >4</td>\n",
       "                        <td id=\"T_144fe48a_0372_11eb_8d62_408d5c1db33crow1_col3\" class=\"data row1 col3\" >0</td>\n",
       "                        <td id=\"T_144fe48a_0372_11eb_8d62_408d5c1db33crow1_col4\" class=\"data row1 col4\" >8</td>\n",
       "            </tr>\n",
       "            <tr>\n",
       "                        <th id=\"T_144fe48a_0372_11eb_8d62_408d5c1db33clevel0_row2\" class=\"row_heading level0 row2\" >confident</th>\n",
       "                        <td id=\"T_144fe48a_0372_11eb_8d62_408d5c1db33crow2_col0\" class=\"data row2 col0\" >0</td>\n",
       "                        <td id=\"T_144fe48a_0372_11eb_8d62_408d5c1db33crow2_col1\" class=\"data row2 col1\" >6</td>\n",
       "                        <td id=\"T_144fe48a_0372_11eb_8d62_408d5c1db33crow2_col2\" class=\"data row2 col2\" >36</td>\n",
       "                        <td id=\"T_144fe48a_0372_11eb_8d62_408d5c1db33crow2_col3\" class=\"data row2 col3\" >5</td>\n",
       "                        <td id=\"T_144fe48a_0372_11eb_8d62_408d5c1db33crow2_col4\" class=\"data row2 col4\" >3</td>\n",
       "            </tr>\n",
       "            <tr>\n",
       "                        <th id=\"T_144fe48a_0372_11eb_8d62_408d5c1db33clevel0_row3\" class=\"row_heading level0 row3\" >enthusiastic</th>\n",
       "                        <td id=\"T_144fe48a_0372_11eb_8d62_408d5c1db33crow3_col0\" class=\"data row3 col0\" >6</td>\n",
       "                        <td id=\"T_144fe48a_0372_11eb_8d62_408d5c1db33crow3_col1\" class=\"data row3 col1\" >3</td>\n",
       "                        <td id=\"T_144fe48a_0372_11eb_8d62_408d5c1db33crow3_col2\" class=\"data row3 col2\" >2</td>\n",
       "                        <td id=\"T_144fe48a_0372_11eb_8d62_408d5c1db33crow3_col3\" class=\"data row3 col3\" >40</td>\n",
       "                        <td id=\"T_144fe48a_0372_11eb_8d62_408d5c1db33crow3_col4\" class=\"data row3 col4\" >1</td>\n",
       "            </tr>\n",
       "            <tr>\n",
       "                        <th id=\"T_144fe48a_0372_11eb_8d62_408d5c1db33clevel0_row4\" class=\"row_heading level0 row4\" >worried</th>\n",
       "                        <td id=\"T_144fe48a_0372_11eb_8d62_408d5c1db33crow4_col0\" class=\"data row4 col0\" >0</td>\n",
       "                        <td id=\"T_144fe48a_0372_11eb_8d62_408d5c1db33crow4_col1\" class=\"data row4 col1\" >0</td>\n",
       "                        <td id=\"T_144fe48a_0372_11eb_8d62_408d5c1db33crow4_col2\" class=\"data row4 col2\" >2</td>\n",
       "                        <td id=\"T_144fe48a_0372_11eb_8d62_408d5c1db33crow4_col3\" class=\"data row4 col3\" >2</td>\n",
       "                        <td id=\"T_144fe48a_0372_11eb_8d62_408d5c1db33crow4_col4\" class=\"data row4 col4\" >40</td>\n",
       "            </tr>\n",
       "    </tbody></table>"
      ],
      "text/plain": [
       "<pandas.io.formats.style.Styler at 0x1e5e2087b48>"
      ]
     },
     "execution_count": 17,
     "metadata": {},
     "output_type": "execute_result"
    }
   ],
   "source": [
    "cm = sns.light_palette(\"salmon\", as_cmap=True)\n",
    "s = df.style.background_gradient(cmap=cm)\n",
    "s"
   ]
  },
  {
   "cell_type": "code",
   "execution_count": null,
   "metadata": {},
   "outputs": [],
   "source": [
    "prd_r = model.predict(x_test)\n",
    "test_acc = accuracy_score(y_test, prd_r) * 100.\n",
    "loss_values = model.loss_curve_\n",
    "plt.plot(loss_values, label= 'train')\n",
    "plt.plot()\n",
    "plt.show()"
   ]
  },
  {
   "cell_type": "code",
   "execution_count": null,
   "metadata": {},
   "outputs": [],
   "source": [
    "plt.title('Loss / Mean Squared Error')\n",
    "plt.plot(history.history['loss'], label='train')\n",
    "plt.plot(history.history['val_loss'], label='test')\n",
    "plt.legend()\n",
    "plt.show()"
   ]
  },
  {
   "cell_type": "code",
   "execution_count": null,
   "metadata": {},
   "outputs": [],
   "source": []
  }
 ],
 "metadata": {
  "kernelspec": {
   "display_name": "Python 3",
   "language": "python",
   "name": "python3"
  },
  "language_info": {
   "codemirror_mode": {
    "name": "ipython",
    "version": 3
   },
   "file_extension": ".py",
   "mimetype": "text/x-python",
   "name": "python",
   "nbconvert_exporter": "python",
   "pygments_lexer": "ipython3",
   "version": "3.7.6"
  }
 },
 "nbformat": 4,
 "nbformat_minor": 4
}
